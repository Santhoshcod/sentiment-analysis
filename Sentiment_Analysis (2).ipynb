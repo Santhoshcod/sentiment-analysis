{
 "cells": [
  {
   "cell_type": "code",
   "execution_count": 1,
   "id": "92820ed5-b116-4fc2-a5f2-de03af5c1b55",
   "metadata": {},
   "outputs": [
    {
     "name": "stdout",
     "output_type": "stream",
     "text": [
      "Defaulting to user installation because normal site-packages is not writeable\n",
      "Requirement already satisfied: nltk in ./.local/lib/python3.9/site-packages (3.8.1)\n",
      "Requirement already satisfied: click in /glob/development-tools/versions/oneapi/2023.2.0.1/oneapi/tensorflow/2.13.0/lib/python3.9/site-packages (from nltk) (8.1.3)\n",
      "Requirement already satisfied: joblib in /glob/development-tools/versions/oneapi/2023.2.0.1/oneapi/tensorflow/2.13.0/lib/python3.9/site-packages (from nltk) (1.2.0)\n",
      "Requirement already satisfied: regex>=2021.8.3 in ./.local/lib/python3.9/site-packages (from nltk) (2023.12.25)\n",
      "Requirement already satisfied: tqdm in ./.local/lib/python3.9/site-packages (from nltk) (4.66.2)\n",
      "Note: you may need to restart the kernel to use updated packages.\n"
     ]
    }
   ],
   "source": [
    "pip install nltk\n"
   ]
  },
  {
   "cell_type": "code",
   "execution_count": 2,
   "id": "c6040675-4bcb-4962-bfb3-1ce26b297142",
   "metadata": {},
   "outputs": [
    {
     "name": "stderr",
     "output_type": "stream",
     "text": [
      "[nltk_data] Downloading package omw-1.4 to /home/u215422/nltk_data...\n",
      "[nltk_data]   Package omw-1.4 is already up-to-date!\n",
      "[nltk_data] Downloading package stopwords to\n",
      "[nltk_data]     /home/u215422/nltk_data...\n",
      "[nltk_data]   Package stopwords is already up-to-date!\n",
      "[nltk_data] Downloading package wordnet to /home/u215422/nltk_data...\n",
      "[nltk_data]   Package wordnet is already up-to-date!\n",
      "[nltk_data] Downloading package punkt to /home/u215422/nltk_data...\n",
      "[nltk_data]   Package punkt is already up-to-date!\n"
     ]
    },
    {
     "data": {
      "text/plain": [
       "True"
      ]
     },
     "execution_count": 2,
     "metadata": {},
     "output_type": "execute_result"
    }
   ],
   "source": [
    "import nltk\n",
    "nltk.download('omw-1.4')\n",
    "nltk.download('stopwords')\n",
    "nltk.download('wordnet')\n",
    "nltk.download('punkt')"
   ]
  },
  {
   "cell_type": "code",
   "execution_count": 3,
   "id": "f66ac988-8abc-4605-8c6d-64d85487ce49",
   "metadata": {},
   "outputs": [
    {
     "name": "stdout",
     "output_type": "stream",
     "text": [
      "Defaulting to user installation because normal site-packages is not writeable\n",
      "Requirement already satisfied: seaborn in ./.local/lib/python3.9/site-packages (0.13.2)\n",
      "Requirement already satisfied: numpy!=1.24.0,>=1.20 in /glob/development-tools/versions/oneapi/2023.2.0.1/oneapi/tensorflow/2.13.0/lib/python3.9/site-packages (from seaborn) (1.24.3)\n",
      "Requirement already satisfied: pandas>=1.2 in /glob/development-tools/versions/oneapi/2023.2.0.1/oneapi/tensorflow/2.13.0/lib/python3.9/site-packages (from seaborn) (2.0.3)\n",
      "Requirement already satisfied: matplotlib!=3.6.1,>=3.4 in /glob/development-tools/versions/oneapi/2023.2.0.1/oneapi/tensorflow/2.13.0/lib/python3.9/site-packages (from seaborn) (3.7.1)\n",
      "Requirement already satisfied: contourpy>=1.0.1 in /glob/development-tools/versions/oneapi/2023.2.0.1/oneapi/tensorflow/2.13.0/lib/python3.9/site-packages (from matplotlib!=3.6.1,>=3.4->seaborn) (1.0.7)\n",
      "Requirement already satisfied: cycler>=0.10 in /glob/development-tools/versions/oneapi/2023.2.0.1/oneapi/tensorflow/2.13.0/lib/python3.9/site-packages (from matplotlib!=3.6.1,>=3.4->seaborn) (0.11.0)\n",
      "Requirement already satisfied: fonttools>=4.22.0 in /glob/development-tools/versions/oneapi/2023.2.0.1/oneapi/tensorflow/2.13.0/lib/python3.9/site-packages (from matplotlib!=3.6.1,>=3.4->seaborn) (4.39.4)\n",
      "Requirement already satisfied: kiwisolver>=1.0.1 in /glob/development-tools/versions/oneapi/2023.2.0.1/oneapi/tensorflow/2.13.0/lib/python3.9/site-packages (from matplotlib!=3.6.1,>=3.4->seaborn) (1.4.4)\n",
      "Requirement already satisfied: packaging>=20.0 in /glob/development-tools/versions/oneapi/2023.2.0.1/oneapi/tensorflow/2.13.0/lib/python3.9/site-packages (from matplotlib!=3.6.1,>=3.4->seaborn) (23.1)\n",
      "Requirement already satisfied: pillow>=6.2.0 in /glob/development-tools/versions/oneapi/2023.2.0.1/oneapi/tensorflow/2.13.0/lib/python3.9/site-packages (from matplotlib!=3.6.1,>=3.4->seaborn) (10.0.0)\n",
      "Requirement already satisfied: pyparsing>=2.3.1 in /glob/development-tools/versions/oneapi/2023.2.0.1/oneapi/tensorflow/2.13.0/lib/python3.9/site-packages (from matplotlib!=3.6.1,>=3.4->seaborn) (3.1.0)\n",
      "Requirement already satisfied: python-dateutil>=2.7 in ./.local/lib/python3.9/site-packages (from matplotlib!=3.6.1,>=3.4->seaborn) (2.9.0.post0)\n",
      "Requirement already satisfied: importlib-resources>=3.2.0 in /glob/development-tools/versions/oneapi/2023.2.0.1/oneapi/tensorflow/2.13.0/lib/python3.9/site-packages (from matplotlib!=3.6.1,>=3.4->seaborn) (5.12.0)\n",
      "Requirement already satisfied: pytz>=2020.1 in /glob/development-tools/versions/oneapi/2023.2.0.1/oneapi/tensorflow/2.13.0/lib/python3.9/site-packages (from pandas>=1.2->seaborn) (2023.3)\n",
      "Requirement already satisfied: tzdata>=2022.1 in /glob/development-tools/versions/oneapi/2023.2.0.1/oneapi/tensorflow/2.13.0/lib/python3.9/site-packages (from pandas>=1.2->seaborn) (2023.3)\n",
      "Requirement already satisfied: zipp>=3.1.0 in /glob/development-tools/versions/oneapi/2023.2.0.1/oneapi/tensorflow/2.13.0/lib/python3.9/site-packages (from importlib-resources>=3.2.0->matplotlib!=3.6.1,>=3.4->seaborn) (3.15.0)\n",
      "Requirement already satisfied: six>=1.5 in /glob/development-tools/versions/oneapi/2023.2.0.1/oneapi/tensorflow/2.13.0/lib/python3.9/site-packages (from python-dateutil>=2.7->matplotlib!=3.6.1,>=3.4->seaborn) (1.16.0)\n",
      "Note: you may need to restart the kernel to use updated packages.\n"
     ]
    }
   ],
   "source": [
    "pip install seaborn"
   ]
  },
  {
   "cell_type": "code",
   "execution_count": 4,
   "id": "6ebc8242-c5f7-4d9f-a230-2388a43eb0ad",
   "metadata": {},
   "outputs": [
    {
     "name": "stderr",
     "output_type": "stream",
     "text": [
      "2024-03-09 00:38:08.184219: I tensorflow/core/platform/cpu_feature_guard.cc:182] This TensorFlow binary is optimized to use available CPU instructions in performance-critical operations.\n",
      "To enable the following instructions: AVX2 AVX512F FMA, in other operations, rebuild TensorFlow with the appropriate compiler flags.\n"
     ]
    }
   ],
   "source": [
    "import pandas as pd\n",
    "import numpy as np\n",
    "import seaborn as sns\n",
    "import matplotlib.pyplot as plt\n",
    "\n",
    "import re\n",
    "from nltk.corpus import stopwords\n",
    "from nltk.tokenize import word_tokenize\n",
    "from nltk.stem import WordNetLemmatizer\n",
    "from nltk.stem import PorterStemmer\n",
    "from nltk.tokenize import word_tokenize\n",
    "from sklearn.feature_extraction.text import CountVectorizer\n",
    "\n",
    "\n",
    "from sklearn.model_selection import train_test_split\n",
    "from tensorflow.keras.preprocessing.text import Tokenizer\n",
    "from tensorflow.keras.preprocessing.sequence import pad_sequences\n",
    "from tensorflow.keras.models import Sequential\n",
    "from tensorflow.keras.layers import Embedding, Conv1D, GlobalMaxPooling1D, Dense\n",
    "from tensorflow.keras.callbacks import EarlyStopping\n",
    "from keras.utils import plot_model\n",
    "from sklearn.metrics import confusion_matrix\n",
    "from sklearn.metrics import classification_report\n",
    "\n",
    "from sklearn.metrics import roc_curve, auc\n",
    "from sklearn.preprocessing import label_binarize\n",
    "from sklearn.multiclass import OneVsRestClassifier\n",
    "\n",
    "\n",
    "\n",
    "import warnings\n",
    "warnings.filterwarnings ('ignore')"
   ]
  },
  {
   "cell_type": "code",
   "execution_count": 5,
   "id": "e9db6ab3-89af-4d13-8005-181acb6aa1cc",
   "metadata": {},
   "outputs": [
    {
     "data": {
      "text/html": [
       "<div>\n",
       "<style scoped>\n",
       "    .dataframe tbody tr th:only-of-type {\n",
       "        vertical-align: middle;\n",
       "    }\n",
       "\n",
       "    .dataframe tbody tr th {\n",
       "        vertical-align: top;\n",
       "    }\n",
       "\n",
       "    .dataframe thead th {\n",
       "        text-align: right;\n",
       "    }\n",
       "</style>\n",
       "<table border=\"1\" class=\"dataframe\">\n",
       "  <thead>\n",
       "    <tr style=\"text-align: right;\">\n",
       "      <th></th>\n",
       "      <th>Unnamed: 0</th>\n",
       "      <th>text</th>\n",
       "      <th>label</th>\n",
       "    </tr>\n",
       "  </thead>\n",
       "  <tbody>\n",
       "    <tr>\n",
       "      <th>0</th>\n",
       "      <td>0</td>\n",
       "      <td>i just feel really helpless and heavy hearted</td>\n",
       "      <td>4</td>\n",
       "    </tr>\n",
       "    <tr>\n",
       "      <th>1</th>\n",
       "      <td>1</td>\n",
       "      <td>ive enjoyed being able to slouch about relax a...</td>\n",
       "      <td>0</td>\n",
       "    </tr>\n",
       "    <tr>\n",
       "      <th>2</th>\n",
       "      <td>2</td>\n",
       "      <td>i gave up my internship with the dmrg and am f...</td>\n",
       "      <td>4</td>\n",
       "    </tr>\n",
       "    <tr>\n",
       "      <th>3</th>\n",
       "      <td>3</td>\n",
       "      <td>i dont know i feel so lost</td>\n",
       "      <td>0</td>\n",
       "    </tr>\n",
       "    <tr>\n",
       "      <th>4</th>\n",
       "      <td>4</td>\n",
       "      <td>i am a kindergarten teacher and i am thoroughl...</td>\n",
       "      <td>4</td>\n",
       "    </tr>\n",
       "  </tbody>\n",
       "</table>\n",
       "</div>"
      ],
      "text/plain": [
       "   Unnamed: 0                                               text  label\n",
       "0           0      i just feel really helpless and heavy hearted      4\n",
       "1           1  ive enjoyed being able to slouch about relax a...      0\n",
       "2           2  i gave up my internship with the dmrg and am f...      4\n",
       "3           3                         i dont know i feel so lost      0\n",
       "4           4  i am a kindergarten teacher and i am thoroughl...      4"
      ]
     },
     "execution_count": 5,
     "metadata": {},
     "output_type": "execute_result"
    }
   ],
   "source": [
    "df = pd.read_csv(\"text.csv\")\n",
    "df.head()"
   ]
  },
  {
   "cell_type": "code",
   "execution_count": 6,
   "id": "375fdc11-d26c-41df-a0b9-388311a20890",
   "metadata": {},
   "outputs": [
    {
     "name": "stdout",
     "output_type": "stream",
     "text": [
      "<class 'pandas.core.frame.DataFrame'>\n",
      "RangeIndex: 416809 entries, 0 to 416808\n",
      "Data columns (total 2 columns):\n",
      " #   Column  Non-Null Count   Dtype \n",
      "---  ------  --------------   ----- \n",
      " 0   text    416809 non-null  object\n",
      " 1   label   416809 non-null  int64 \n",
      "dtypes: int64(1), object(1)\n",
      "memory usage: 6.4+ MB\n"
     ]
    }
   ],
   "source": [
    "df = df.drop(columns=['Unnamed: 0'])\n",
    "df.info()"
   ]
  },
  {
   "cell_type": "code",
   "execution_count": 7,
   "id": "e166a637-15b3-49d1-8964-4e73973df70f",
   "metadata": {},
   "outputs": [],
   "source": [
    "df.duplicated().sum()\n",
    "df = df.drop_duplicates()"
   ]
  },
  {
   "cell_type": "code",
   "execution_count": 8,
   "id": "142722fd-9548-4f24-ab0f-c2d012deec1d",
   "metadata": {},
   "outputs": [],
   "source": [
    "df1 = df.copy()"
   ]
  },
  {
   "cell_type": "code",
   "execution_count": 9,
   "id": "895f7d07-e5c2-495d-93ae-64600ef42f7b",
   "metadata": {},
   "outputs": [
    {
     "data": {
      "text/plain": [
       "array(['i just feel really helpless and heavy hearted',\n",
       "       'ive enjoyed being able to slouch about relax and unwind and frankly needed it after those last few weeks around the end of uni and the expo i have lately started to find myself feeling a bit listless which is never really a good thing',\n",
       "       'i gave up my internship with the dmrg and am feeling distraught',\n",
       "       ...,\n",
       "       'i feel very curious be why previous early dawn in the time here don t you seek his trouble',\n",
       "       'i feel that becuase of the tyranical nature of the government in el salvador and the savage social conditions of the general people that the set of thought to run the shoe shop in miguel marmols testimoney was able to work',\n",
       "       'i think that after i had spent some time investigating the surroundings and things i started to feel more curious about other people'],\n",
       "      dtype=object)"
      ]
     },
     "execution_count": 9,
     "metadata": {},
     "output_type": "execute_result"
    }
   ],
   "source": [
    "unique_review = df1['text'].unique()\n",
    "unique_review"
   ]
  },
  {
   "cell_type": "code",
   "execution_count": 10,
   "id": "276f79a9-d5a6-4638-86ef-bdbf30cbfa75",
   "metadata": {},
   "outputs": [
    {
     "name": "stdout",
     "output_type": "stream",
     "text": [
      "                                                     text  \\\n",
      "0           i just feel really helpless and heavy hearted   \n",
      "1       ive enjoyed being able to slouch about relax a...   \n",
      "2       i gave up my internship with the dmrg and am f...   \n",
      "3                              i dont know i feel so lost   \n",
      "4       i am a kindergarten teacher and i am thoroughl...   \n",
      "...                                                   ...   \n",
      "416804  i feel like telling these horny devils to find...   \n",
      "416805  i began to realize that when i was feeling agi...   \n",
      "416806  i feel very curious be why previous early dawn...   \n",
      "416807  i feel that becuase of the tyranical nature of...   \n",
      "416808  i think that after i had spent some time inves...   \n",
      "\n",
      "                                             cleaned_text  \n",
      "0                        feel realli helpless heavi heart  \n",
      "1       ive enjoy abl slouch relax unwind frankli need...  \n",
      "2                    gave internship dmrg feel distraught  \n",
      "3                                     dont know feel lost  \n",
      "4       kindergarten teacher thoroughli weari job take...  \n",
      "...                                                   ...  \n",
      "416804  feel like tell horni devil find site suit sort...  \n",
      "416805  began realiz feel agit restless would thought ...  \n",
      "416806    feel curiou previou earli dawn time seek troubl  \n",
      "416807  feel becuas tyran natur govern el salvador sav...  \n",
      "416808  think spent time investig surround thing start...  \n",
      "\n",
      "[416123 rows x 2 columns]\n"
     ]
    }
   ],
   "source": [
    "stemmer = PorterStemmer()\n",
    "stop_words = set(stopwords.words('english'))\n",
    "\n",
    "def clean_text(text):\n",
    "    text = text.lower()\n",
    "    text = re.sub(r'http\\S+', '', text)\n",
    "    text = re.sub(r'www\\.\\S+', '', text)\n",
    "    text = re.sub(r'[^\\w\\s]', '', text)\n",
    "    text = re.sub('\\w*\\d\\w*', '', text)\n",
    "    tokens = word_tokenize(text)\n",
    "    # Remove stopwords and stem tokens\n",
    "    cleaned_tokens = [stemmer.stem(token) for token in tokens if token not in stop_words]\n",
    "    # Join the tokens back into a single string\n",
    "    cleaned_text = ' '.join(cleaned_tokens)\n",
    "    return cleaned_text\n",
    "\n",
    "# Clean the text data in the 'text' column of DataFrame df\n",
    "df1['cleaned_text'] = df1['text'].apply(clean_text)\n",
    "\n",
    "# Print the DataFrame with cleaned text data\n",
    "print(df1[['text', 'cleaned_text']])"
   ]
  },
  {
   "cell_type": "code",
   "execution_count": 11,
   "id": "dfe98b06-4f6a-4e9a-9bf0-9689045e04d2",
   "metadata": {},
   "outputs": [],
   "source": [
    "df1['cleaned_text'] = df1['cleaned_text'].str.replace(\"http\", \"\").str.replace(\"href\", \"\").str.replace(\"img\", \"\").str.replace(\"irc\", \"\")"
   ]
  },
  {
   "cell_type": "code",
   "execution_count": 12,
   "id": "d3e3530a-60b1-42b0-8299-4f46069f403e",
   "metadata": {},
   "outputs": [
    {
     "data": {
      "text/plain": [
       "array(['feel realli helpless heavi heart',\n",
       "       'ive enjoy abl slouch relax unwind frankli need last week around end uni expo late start find feel bit listless never realli good thing',\n",
       "       'gave internship dmrg feel distraught', ...,\n",
       "       'feel curiou previou earli dawn time seek troubl',\n",
       "       'feel becuas tyran natur govern el salvador savag social condit gener peopl set thought run shoe shop miguel marmol testimoney abl work',\n",
       "       'think spent time investig surround thing start feel curiou peopl'],\n",
       "      dtype=object)"
      ]
     },
     "execution_count": 12,
     "metadata": {},
     "output_type": "execute_result"
    }
   ],
   "source": [
    "unique_review = df1['cleaned_text'].unique()\n",
    "unique_review"
   ]
  },
  {
   "cell_type": "code",
   "execution_count": 13,
   "id": "88bcf273-2aeb-4469-9ed2-566225800927",
   "metadata": {},
   "outputs": [
    {
     "data": {
      "text/plain": [
       "label\n",
       "1    140779\n",
       "0    120989\n",
       "3     57235\n",
       "4     47664\n",
       "2     34497\n",
       "5     14959\n",
       "Name: count, dtype: int64"
      ]
     },
     "execution_count": 13,
     "metadata": {},
     "output_type": "execute_result"
    }
   ],
   "source": [
    "df1.label.value_counts()"
   ]
  },
  {
   "cell_type": "code",
   "execution_count": 14,
   "id": "e8b71f75-f00c-4908-9a9b-446800b3e79b",
   "metadata": {},
   "outputs": [],
   "source": [
    "mapping = {0: 'sadness', 1: 'joy', 2: 'love', 3: 'anger', 4: 'fear', 5: 'surprise'}\n",
    "\n",
    "df1['Emotion'] = df1['label'].map(mapping)"
   ]
  },
  {
   "cell_type": "code",
   "execution_count": 15,
   "id": "beaab5c0-fb8b-46dc-ab44-0de7ada76bc0",
   "metadata": {},
   "outputs": [],
   "source": [
    "df2 = df1.copy()\n",
    "X_train, X_test, y_train, y_test = train_test_split(df2['cleaned_text'], df2['label'], test_size=0.2, random_state=42)"
   ]
  },
  {
   "cell_type": "code",
   "execution_count": 16,
   "id": "66a5d837-5096-4b0d-8095-c6c4218bc70a",
   "metadata": {},
   "outputs": [],
   "source": [
    "tokenizer = Tokenizer(num_words=50000)\n",
    "tokenizer.fit_on_texts(X_train)"
   ]
  },
  {
   "cell_type": "code",
   "execution_count": 17,
   "id": "0b382524-5c8c-409e-ba3c-78ac1c7d85f5",
   "metadata": {},
   "outputs": [],
   "source": [
    "X_train_padded = pad_sequences(tokenizer.texts_to_sequences(X_train), maxlen=100, padding='post')\n",
    "X_test_padded = pad_sequences(tokenizer.texts_to_sequences(X_test), maxlen=100, padding='post')"
   ]
  },
  {
   "cell_type": "code",
   "execution_count": 18,
   "id": "fb6e79af-1a11-4826-9908-16d5aa7b70ea",
   "metadata": {},
   "outputs": [
    {
     "name": "stderr",
     "output_type": "stream",
     "text": [
      "2024-03-09 00:40:01.946620: I tensorflow/core/common_runtime/process_util.cc:146] Creating new thread pool with default inter op setting: 2. Tune using inter_op_parallelism_threads for best performance.\n"
     ]
    }
   ],
   "source": [
    "cnn_model = Sequential()\n",
    "cnn_model.add(Embedding(input_dim=50000, output_dim=16, input_length=100))\n",
    "cnn_model.add(Conv1D(filters=128, kernel_size=5, activation='relu'))\n",
    "cnn_model.add(GlobalMaxPooling1D())\n",
    "cnn_model.add(Dense(units=64, activation='relu'))\n",
    "cnn_model.add(Dense(units=6, activation='softmax'))"
   ]
  },
  {
   "cell_type": "code",
   "execution_count": 19,
   "id": "8a152e5d-500c-4bc5-a964-4f3401c5a6e0",
   "metadata": {},
   "outputs": [
    {
     "name": "stdout",
     "output_type": "stream",
     "text": [
      "Model: \"sequential\"\n",
      "_________________________________________________________________\n",
      " Layer (type)                Output Shape              Param #   \n",
      "=================================================================\n",
      " embedding (Embedding)       (None, 100, 16)           800000    \n",
      "                                                                 \n",
      " conv1d (Conv1D)             (None, 96, 128)           10368     \n",
      "                                                                 \n",
      " global_max_pooling1d (Glob  (None, 128)               0         \n",
      " alMaxPooling1D)                                                 \n",
      "                                                                 \n",
      " dense (Dense)               (None, 64)                8256      \n",
      "                                                                 \n",
      " dense_1 (Dense)             (None, 6)                 390       \n",
      "                                                                 \n",
      "=================================================================\n",
      "Total params: 819014 (3.12 MB)\n",
      "Trainable params: 819014 (3.12 MB)\n",
      "Non-trainable params: 0 (0.00 Byte)\n",
      "_________________________________________________________________\n"
     ]
    }
   ],
   "source": [
    "cnn_model.compile(optimizer='adam', loss='sparse_categorical_crossentropy', metrics=['accuracy'])\n",
    "cnn_model.summary()"
   ]
  },
  {
   "cell_type": "code",
   "execution_count": 20,
   "id": "f231f84f-489c-48e9-92e1-4e74bbe6fc9f",
   "metadata": {},
   "outputs": [
    {
     "name": "stdout",
     "output_type": "stream",
     "text": [
      "Epoch 1/50\n",
      "10404/10404 [==============================] - 383s 37ms/step - loss: 0.2301 - accuracy: 0.8973 - val_loss: 0.1799 - val_accuracy: 0.9129\n",
      "Epoch 2/50\n",
      "10404/10404 [==============================] - 382s 37ms/step - loss: 0.1507 - accuracy: 0.9216 - val_loss: 0.1544 - val_accuracy: 0.9182\n",
      "Epoch 3/50\n",
      "10404/10404 [==============================] - 394s 38ms/step - loss: 0.1346 - accuracy: 0.9268 - val_loss: 0.1564 - val_accuracy: 0.9165\n",
      "Epoch 4/50\n",
      "10404/10404 [==============================] - 386s 37ms/step - loss: 0.1229 - accuracy: 0.9307 - val_loss: 0.1575 - val_accuracy: 0.9141\n",
      "Epoch 5/50\n",
      "10404/10404 [==============================] - 390s 38ms/step - loss: 0.1153 - accuracy: 0.9338 - val_loss: 0.1679 - val_accuracy: 0.9167\n"
     ]
    }
   ],
   "source": [
    "early_stopping = EarlyStopping(monitor='val_loss', patience=3, restore_best_weights=True)\n",
    "\n",
    "history_cnn = cnn_model.fit(X_train_padded, y_train, epochs=50, \n",
    "                             validation_data=(X_test_padded, y_test),\n",
    "                             callbacks=[early_stopping])"
   ]
  },
  {
   "cell_type": "code",
   "execution_count": 21,
   "id": "fc134679-7188-4aa1-8354-768bf7709393",
   "metadata": {},
   "outputs": [
    {
     "name": "stdout",
     "output_type": "stream",
     "text": [
      "2601/2601 [==============================] - 7s 3ms/step\n"
     ]
    },
    {
     "data": {
      "image/png": "[encoded data removed]",
      "text/plain": [
       "<Figure size 800x600 with 2 Axes>"
      ]
     },
     "metadata": {},
     "output_type": "display_data"
    }
   ],
   "source": [
    "y_pred = np.argmax(cnn_model.predict(X_test_padded), axis=1)\n",
    "\n",
    "conf_mat = confusion_matrix(y_test, y_pred)\n",
    "\n",
    "emotion_labels = ['sadness', 'joy', 'love', 'anger', 'fear', 'surprise']\n",
    "\n",
    "plt.figure(figsize=(8, 6))\n",
    "sns.heatmap(conf_mat, annot=True, fmt='d', cmap='Greys', \n",
    "            xticklabels=emotion_labels,\n",
    "            yticklabels=emotion_labels)\n",
    "plt.title('Confusion Matrix')\n",
    "plt.xlabel('Predicted')\n",
    "plt.ylabel('True')\n",
    "plt.show()"
   ]
  },
  {
   "cell_type": "code",
   "execution_count": 22,
   "id": "321eabff-85ee-4f73-b257-f86c9671ea8f",
   "metadata": {},
   "outputs": [
    {
     "name": "stdout",
     "output_type": "stream",
     "text": [
      "              precision    recall  f1-score   support\n",
      "\n",
      "     Sadness       0.95      0.96      0.96     24121\n",
      "         Joy       0.95      0.92      0.94     28220\n",
      "        Love       0.77      0.87      0.82      6824\n",
      "       Anger       0.91      0.94      0.92     11448\n",
      "        Fear       0.92      0.84      0.88      9574\n",
      "    Surprise       0.75      0.85      0.80      3038\n",
      "\n",
      "    accuracy                           0.92     83225\n",
      "   macro avg       0.88      0.90      0.88     83225\n",
      "weighted avg       0.92      0.92      0.92     83225\n",
      "\n"
     ]
    }
   ],
   "source": [
    "target_names = ['Sadness', 'Joy', 'Love', 'Anger', 'Fear', 'Surprise']  \n",
    "report = classification_report(y_test, y_pred, target_names=target_names)\n",
    "\n",
    "print(report)"
   ]
  },
  {
   "cell_type": "code",
   "execution_count": 23,
   "id": "b7da7b06-4165-4ff2-bd8d-54e6f2c42673",
   "metadata": {},
   "outputs": [
    {
     "data": {
      "image/png": "[encoded data removed]",
      "text/plain": [
       "<Figure size 640x480 with 1 Axes>"
      ]
     },
     "metadata": {},
     "output_type": "display_data"
    },
    {
     "data": {
      "image/png": "[encoded data removed]",
      "text/plain": [
       "<Figure size 640x480 with 1 Axes>"
      ]
     },
     "metadata": {},
     "output_type": "display_data"
    }
   ],
   "source": [
    "train_loss = history_cnn.history['loss']\n",
    "val_loss = history_cnn.history['val_loss']\n",
    "train_acc = history_cnn.history['accuracy']\n",
    "val_acc = history_cnn.history['val_accuracy']\n",
    "\n",
    "epochs = range(1, len(train_acc) + 1)\n",
    "\n",
    "plt.plot(epochs, train_loss, 'r', label='Training loss')\n",
    "plt.plot(epochs, val_loss, 'b', label='Validation loss')\n",
    "plt.title('Training and validation loss')\n",
    "plt.xlabel('Epochs')\n",
    "plt.ylabel('Loss')\n",
    "plt.legend()\n",
    "plt.show()\n",
    "\n",
    "plt.figure()\n",
    "plt.plot(epochs, train_acc, 'r', label='Training acc')\n",
    "plt.plot(epochs, val_acc, 'b', label='Validation acc')\n",
    "plt.title('Training and validation accuracy')\n",
    "plt.xlabel('Epochs')\n",
    "plt.ylabel('Accuracy')\n",
    "plt.legend()\n",
    "plt.show()"
   ]
  },
  {
   "cell_type": "code",
   "execution_count": 29,
   "id": "6370d08e-de2b-4af7-b035-8fbfbc10063d",
   "metadata": {},
   "outputs": [
    {
     "name": "stdin",
     "output_type": "stream",
     "text": [
      "Enter your text (or type 'exit' to quit):  I am satisfied with the support\n"
     ]
    },
    {
     "name": "stdout",
     "output_type": "stream",
     "text": [
      "Input Text: I am satisfied with the support\n",
      "Cleaned Text: i am satisfied with the support\n",
      "Tokenized Text: [[18906 13464 33673    92     0     0     0     0     0     0     0     0\n",
      "      0     0     0     0     0     0     0     0     0     0     0     0\n",
      "      0     0     0     0     0     0     0     0     0     0     0     0\n",
      "      0     0     0     0     0     0     0     0     0     0     0     0\n",
      "      0     0     0     0     0     0     0     0     0     0     0     0\n",
      "      0     0     0     0     0     0     0     0     0     0     0     0\n",
      "      0     0     0     0     0     0     0     0     0     0     0     0\n",
      "      0     0     0     0     0     0     0     0     0     0     0     0\n",
      "      0     0     0     0]]\n",
      "Preprocessed Text: [[18906 13464 33673    92     0     0     0     0     0     0     0     0\n",
      "      0     0     0     0     0     0     0     0     0     0     0     0\n",
      "      0     0     0     0     0     0     0     0     0     0     0     0\n",
      "      0     0     0     0     0     0     0     0     0     0     0     0\n",
      "      0     0     0     0     0     0     0     0     0     0     0     0\n",
      "      0     0     0     0     0     0     0     0     0     0     0     0\n",
      "      0     0     0     0     0     0     0     0     0     0     0     0\n",
      "      0     0     0     0     0     0     0     0     0     0     0     0\n",
      "      0     0     0     0]]\n",
      "1/1 [==============================] - 0s 18ms/step\n",
      "Predicted Label: 1\n",
      "Predicted Emotion: Joy\n"
     ]
    },
    {
     "name": "stdin",
     "output_type": "stream",
     "text": [
      "Enter your text (or type 'exit' to quit):  exit\n"
     ]
    },
    {
     "name": "stdout",
     "output_type": "stream",
     "text": [
      "Input Text: exit\n",
      "Exiting...\n"
     ]
    }
   ],
   "source": [
    "import re\n",
    "import numpy as np\n",
    "from tensorflow.keras.preprocessing.sequence import pad_sequences\n",
    "\n",
    "def clean_text(text):\n",
    "    # Your cleaning logic goes here\n",
    "    # For example, you can lowercase the text, remove special characters, etc.\n",
    "    cleaned_text = text.lower()\n",
    "    cleaned_text = re.sub(r'http\\S+', '', cleaned_text)\n",
    "    cleaned_text = re.sub(r'www\\.\\S+', '', cleaned_text)\n",
    "    cleaned_text = re.sub(r'[^\\w\\s]', '', cleaned_text)\n",
    "    cleaned_text = re.sub('\\w*\\d\\w*', '', cleaned_text)\n",
    "    return cleaned_text\n",
    "\n",
    "def preprocess_text(text):\n",
    "    # Clean the text\n",
    "    cleaned_text = clean_text(text)\n",
    "    print(\"Cleaned Text:\", cleaned_text)  # Debug print\n",
    "    # Tokenize and pad the text\n",
    "    tokenized_text = pad_sequences(tokenizer.texts_to_sequences([cleaned_text]), maxlen=100, padding='post')\n",
    "    print(\"Tokenized Text:\", tokenized_text)  # Debug print\n",
    "    return tokenized_text\n",
    "\n",
    "def classify_emotion(text):\n",
    "    # Preprocess the input text\n",
    "    preprocessed_text = preprocess_text(text)\n",
    "    print(\"Preprocessed Text:\", preprocessed_text)  # Debug print\n",
    "    # Predict the emotion label\n",
    "    predicted_label = np.argmax(cnn_model.predict(preprocessed_text), axis=1)[0]\n",
    "    print(\"Predicted Label:\", predicted_label)  # Debug print\n",
    "    # Map the predicted label to the corresponding emotion category\n",
    "    emotion_mapping = {0: 'Sadness', 1: 'Joy', 2: 'Love', 3: 'Anger', 4: 'Fear', 5: 'Surprise'}\n",
    "    predicted_emotion = emotion_mapping[predicted_label]\n",
    "    return predicted_emotion\n",
    "\n",
    "# Continuous input loop\n",
    "while True:\n",
    "    # Get user input\n",
    "    input_text = input(\"Enter your text (or type 'exit' to quit): \")\n",
    "    print(\"Input Text:\", input_text)  # Debug print\n",
    "    # Check if user wants to exit\n",
    "    if input_text.lower() == 'exit':\n",
    "        print(\"Exiting...\")\n",
    "        break\n",
    "    # Predict emotion for input text\n",
    "    predicted_emotion = classify_emotion(input_text)\n",
    "    print(\"Predicted Emotion:\", predicted_emotion)\n"
   ]
  },
  {
   "cell_type": "code",
   "execution_count": null,
   "id": "46577eea-6ddf-40de-8aaf-7777bbed63ec",
   "metadata": {},
   "outputs": [],
   "source": []
  }
 ],
 "metadata": {
  "kernelspec": {
   "display_name": "Tensorflow (Intel® oneAPI 2023.2)",
   "language": "python",
   "name": "c009-intel_distribution_of_python_3_oneapi-beta05-tf"
  },
  "language_info": {
   "codemirror_mode": {
    "name": "ipython",
    "version": 3
   },
   "file_extension": ".py",
   "mimetype": "text/x-python",
   "name": "python",
   "nbconvert_exporter": "python",
   "pygments_lexer": "ipython3",
   "version": "3.9.16"
  }
 },
 "nbformat": 4,
 "nbformat_minor": 5
}
